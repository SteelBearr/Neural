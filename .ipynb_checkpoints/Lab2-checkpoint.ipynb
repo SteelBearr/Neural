{
 "cells": [
  {
   "cell_type": "code",
   "execution_count": 53,
   "id": "66c39322",
   "metadata": {},
   "outputs": [],
   "source": [
    "%matplotlib inline\n",
    "import numpy as np\n",
    "import matplotlib.pyplot as plt\n",
    "import gzip\n",
    "import struct\n",
    "import os\n",
    "\n",
    "\n",
    "data_folder = os.path.join(os.getcwd(),\"\")\n",
    "ansbase = np.empty((0,10))\n",
    "ansbase_test = np.empty((0,10))\n",
    "\n",
    "# load compressed MNIST gz files and return numpy arrays\n",
    "def load_data(filename, label=False):\n",
    "    with gzip.open(filename) as gz:\n",
    "        struct.unpack('I', gz.read(4))\n",
    "        n_items = struct.unpack('>I', gz.read(4))\n",
    "        if not label:\n",
    "            n_rows = struct.unpack('>I', gz.read(4))[0]\n",
    "            n_cols = struct.unpack('>I', gz.read(4))[0]\n",
    "            res = np.frombuffer(gz.read(n_items[0] * n_rows * n_cols), dtype=np.uint8)\n",
    "            res = res.reshape(n_items[0], n_rows * n_cols)\n",
    "        else:\n",
    "            res = np.frombuffer(gz.read(n_items[0]), dtype=np.uint8)\n",
    "            res = res.reshape(n_items[0], 1)\n",
    "    return res\n",
    "\n",
    "# note we also shrink the intensity values (X) from 0-255 to 0-1. This helps the model converge faster.\n",
    "X_train = load_data(os.path.join(\n",
    "    data_folder, 'train-images-idx3-ubyte.gz'), False) / 255.0\n",
    "X_test = load_data(os.path.join(data_folder, 't10k-images-idx3-ubyte.gz'), False) / 255.0\n",
    "y_train = load_data(os.path.join(\n",
    "    data_folder, 'train-labels-idx1-ubyte.gz'), True).reshape(-1)\n",
    "y_test = load_data(os.path.join(\n",
    "    data_folder, 't10k-labels-idx1-ubyte.gz'), True).reshape(-1)\n",
    "\n",
    "\n",
    "for i in range(len(y_train)):\n",
    "    ansbase = np.vstack((ansbase,[1 if y_train[i] == 0 else 0,\n",
    "                                1 if y_train[i] == 1 else 0,\n",
    "                                1 if y_train[i] == 2 else 0,\n",
    "                                1 if y_train[i] == 3 else 0,\n",
    "                                1 if y_train[i] == 4 else 0,\n",
    "                                1 if y_train[i] == 5 else 0,\n",
    "                                1 if y_train[i] == 6 else 0,\n",
    "                                1 if y_train[i] == 7 else 0,\n",
    "                                1 if y_train[i] == 8 else 0,\n",
    "                                1 if y_train[i] == 9 else 0]))\n",
    "    \n",
    "    \n",
    "for i in range(len(y_test)):\n",
    "    ansbase_test = np.vstack((ansbase_test,[1 if y_test[i] == 0 else 0,\n",
    "                                1 if y_test[i] == 1 else 0,\n",
    "                                1 if y_test[i] == 2 else 0,\n",
    "                                1 if y_test[i] == 3 else 0,\n",
    "                                1 if y_test[i] == 4 else 0,\n",
    "                                1 if y_test[i] == 5 else 0,\n",
    "                                1 if y_test[i] == 6 else 0,\n",
    "                                1 if y_test[i] == 7 else 0,\n",
    "                                1 if y_test[i] == 8 else 0,\n",
    "                                1 if y_test[i] == 9 else 0]))\n",
    "    "
   ]
  },
  {
   "cell_type": "code",
   "execution_count": 132,
   "id": "16676d0c",
   "metadata": {},
   "outputs": [],
   "source": [
    "def neursum(inputs, wghts,c):\n",
    "    return (inputs*wghts).sum() + c\n",
    "\n",
    "def f(net):\n",
    "    return 1/(1+np.exp(-net))\n",
    "\n",
    "def f_d(net):\n",
    "    return f(net)*(1-f(net))\n",
    "\n",
    "w = np.random.uniform(-0.0005,0.0005,(784, 10))\n",
    "w0 = np.random.uniform(-0.0005,0.0005, (10,))"
   ]
  },
  {
   "cell_type": "code",
   "execution_count": null,
   "id": "72289413",
   "metadata": {},
   "outputs": [],
   "source": [
    "import random\n",
    "from IPython.display import clear_output\n",
    "\n",
    "\n",
    "iterations = 100000\n",
    "eta = 0.05\n",
    "for i in range(iterations):\n",
    "    for j in range(len(ansbase[0])):\n",
    "        pos = random.randint(0,len(X_train)-1)\n",
    "        sm = neursum(X_train[pos],w[:,j],w0[j])\n",
    "        res = f(sm)\n",
    "        #err = 0.5*((ansbase[pos] - res)**2).sum()\n",
    "        sigm = - (ansbase[pos][j] - res)*f_d(sm)\n",
    "        for k in range(len(X_train[pos])):\n",
    "            w[k][j]+= - eta * sigm * X_train[pos][k]\n",
    "        w0[j] += eta * sigm\n",
    "    clear_output()\n",
    "    print((i+1)/iterations*100, end='%')\n",
    "    "
   ]
  },
  {
   "cell_type": "code",
   "execution_count": 129,
   "id": "713fa064",
   "metadata": {},
   "outputs": [
    {
     "name": "stdout",
     "output_type": "stream",
     "text": [
      "6\n"
     ]
    },
    {
     "data": {
      "image/png": "[encoded data removed]",
      "text/plain": [
       "<Figure size 640x480 with 1 Axes>"
      ]
     },
     "metadata": {},
     "output_type": "display_data"
    },
    {
     "name": "stdout",
     "output_type": "stream",
     "text": [
      "1.1857116877128799e-07% - 0\n",
      "1.1070116125440141e-12% - 1\n",
      "0.0001270712122089635% - 2\n",
      "1.669681242926615e-09% - 3\n",
      "0.0003071254331657668% - 4\n",
      "8.010088828905826e-06% - 5\n",
      "1.3291239609190928% - 6\n",
      "3.067660382006097e-08% - 7\n",
      "1.2457707247915585e-06% - 8\n",
      "3.086625608093831e-06% - 9\n"
     ]
    }
   ],
   "source": [
    "ans = []\n",
    "rnd = random.randint(0,len(X_test)-1)\n",
    "for j in range(10):\n",
    "    ans.append(f(neursum(X_test[rnd],w[:,j],w0[j])))\n",
    "print(y_test[rnd]) \n",
    "plt.imshow(X_test[rnd].reshape(28, 28), cmap=plt.cm.Greys)\n",
    "plt.show()\n",
    "for i in range(len(ans)):\n",
    "    print(ans[i]*100,'%',' - ',i,sep=\"\") "
   ]
  },
  {
   "cell_type": "code",
   "execution_count": 124,
   "id": "65225013",
   "metadata": {},
   "outputs": [
    {
     "name": "stdout",
     "output_type": "stream",
     "text": [
      "(784, 10)\n",
      "-33.859885025208925\n"
     ]
    }
   ],
   "source": [
    "print(np.shape(w))\n",
    "print((X_test[rnd]*w[:,1]).sum())"
   ]
  },
  {
   "cell_type": "code",
   "execution_count": 117,
   "id": "723d8ebf",
   "metadata": {},
   "outputs": [
    {
     "name": "stdout",
     "output_type": "stream",
     "text": [
      "[[ 1.14527313e-04  1.24289693e-04 -4.10720019e-04 ...  2.57210714e-04\n",
      "   3.68513966e-04 -1.40643062e-04]\n",
      " [-3.01253839e-04 -8.06499665e-05 -4.98850387e-04 ...  3.91860529e-04\n",
      "   4.97304488e-04 -4.60165680e-05]\n",
      " [-7.00139591e-05  1.11541733e-04  1.38680008e-05 ...  1.01553048e-07\n",
      "  -2.76334224e-04 -4.19694744e-04]\n",
      " ...\n",
      " [ 1.92399791e-05 -4.48349104e-04  1.06586442e-04 ... -4.42163379e-04\n",
      "   4.26541328e-04 -3.70348491e-04]\n",
      " [ 1.18636367e-04  4.19347599e-04 -3.52967942e-05 ... -1.52136474e-05\n",
      "   2.62947878e-04 -3.38921134e-05]\n",
      " [ 2.55405470e-04  3.19530704e-04  5.00424546e-05 ... -6.68010233e-05\n",
      "   2.71366591e-04 -3.07813982e-04]]\n"
     ]
    }
   ],
   "source": [
    "print(w)"
   ]
  },
  {
   "cell_type": "code",
   "execution_count": 125,
   "id": "276ba32d",
   "metadata": {},
   "outputs": [
    {
     "name": "stdout",
     "output_type": "stream",
     "text": [
      "0.9999999999999953\n"
     ]
    }
   ],
   "source": [
    "print(f(33))"
   ]
  },
  {
   "cell_type": "code",
   "execution_count": null,
   "id": "0bb166bc",
   "metadata": {},
   "outputs": [],
   "source": []
  }
 ],
 "metadata": {
  "kernelspec": {
   "display_name": "Python 3 (ipykernel)",
   "language": "python",
   "name": "python3"
  },
  "language_info": {
   "codemirror_mode": {
    "name": "ipython",
    "version": 3
   },
   "file_extension": ".py",
   "mimetype": "text/x-python",
   "name": "python",
   "nbconvert_exporter": "python",
   "pygments_lexer": "ipython3",
   "version": "3.9.13"
  }
 },
 "nbformat": 4,
 "nbformat_minor": 5
}

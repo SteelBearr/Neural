{
 "cells": [
  {
   "cell_type": "code",
   "execution_count": 106,
   "id": "210c609f",
   "metadata": {},
   "outputs": [
    {
     "name": "stdout",
     "output_type": "stream",
     "text": [
      "99.984%"
     ]
    }
   ],
   "source": [
    "import numpy as np\n",
    "from PIL import Image\n",
    "import os\n",
    "from IPython.display import clear_output\n",
    "\n",
    "\n",
    "learnbase = []\n",
    "ansbase = []\n",
    "w = np.random.rand(256, 4)\n",
    "w0 = np.random.rand(4)\n",
    "eta = 0.05\n",
    "counter = 6250\n",
    "\n",
    "for filename in os.listdir(\"./Images/Learn\"):\n",
    "    arr = np.asarray(Image.open('./Images/Learn/' + filename))\n",
    "    arr=arr.copy()\n",
    "    for i in range(len(arr)):\n",
    "        for j in range(len(arr[i])):\n",
    "            arr[i][j] = not arr[i][j]\n",
    "    ansbase.append([1 if filename[len(filename)-5:len(filename)-4] == 'K' else 0,\n",
    "                   1 if filename[len(filename)-5:len(filename)-4] == 'M' else 0,\n",
    "                   1 if filename[len(filename)-5:len(filename)-4] == 'N' else 0,\n",
    "                   1 if filename[len(filename)-5:len(filename)-4] == '1' else 0])\n",
    "    learnbase.append(arr)\n",
    "    \n",
    "def neursum(inputs, wghts,c):\n",
    "    E = 0\n",
    "    for i in range(len(inputs)):\n",
    "        for j in range(len(inputs[i])):\n",
    "            E+=inputs[i][j]*wghts[i*len(inputs[i])+j]\n",
    "    return E+c\n",
    "\n",
    "def f(net):\n",
    "    return 1/(1+np.exp(-net))\n",
    "\n",
    "for iteration in range(counter):\n",
    "    for i in range(len(learnbase)):\n",
    "        for j in range(4):\n",
    "            calculated = f(neursum(learnbase[i],w[:,j],w0[j]))\n",
    "            err = ansbase[i][j] - calculated\n",
    "            if err != 0:\n",
    "                for k in range(16):\n",
    "                    for l in range(16):\n",
    "                        w[k*len(learnbase[i])+l][j]+= eta*err*learnbase[i][k][l]\n",
    "                w0[j] += eta*err\n",
    "    clear_output()\n",
    "    print(iteration/counter*100,end = '%')\n",
    "        "
   ]
  },
  {
   "cell_type": "code",
   "execution_count": 107,
   "id": "14f2907e",
   "metadata": {},
   "outputs": [
    {
     "data": {
      "image/png": "[encoded data removed]",
      "text/plain": [
       "<PIL.PngImagePlugin.PngImageFile image mode=1 size=16x16>"
      ]
     },
     "metadata": {},
     "output_type": "display_data"
    },
    {
     "name": "stdout",
     "output_type": "stream",
     "text": [
      "3.2866874349444055% - K\n",
      "0.4244479180320564% - M\n",
      "0.023985915446848603% - N\n",
      "99.9916923685178% - 1\n"
     ]
    },
    {
     "data": {
      "image/png": "[encoded data removed]",
      "text/plain": [
       "<PIL.PngImagePlugin.PngImageFile image mode=1 size=16x16>"
      ]
     },
     "metadata": {},
     "output_type": "display_data"
    },
    {
     "name": "stdout",
     "output_type": "stream",
     "text": [
      "99.89079822739075% - K\n",
      "0.010168740170409838% - M\n",
      "16.09006125939355% - N\n",
      "0.0006420277686563158% - 1\n"
     ]
    },
    {
     "data": {
      "image/png": "[encoded data removed]",
      "text/plain": [
       "<PIL.PngImagePlugin.PngImageFile image mode=1 size=16x16>"
      ]
     },
     "metadata": {},
     "output_type": "display_data"
    },
    {
     "name": "stdout",
     "output_type": "stream",
     "text": [
      "0.3652187200426057% - K\n",
      "99.99999936496333% - M\n",
      "0.036353103878530864% - N\n",
      "0.00011509175947494244% - 1\n"
     ]
    },
    {
     "data": {
      "image/png": "[encoded data removed]",
      "text/plain": [
       "<PIL.PngImagePlugin.PngImageFile image mode=1 size=16x16>"
      ]
     },
     "metadata": {},
     "output_type": "display_data"
    },
    {
     "name": "stdout",
     "output_type": "stream",
     "text": [
      "0.03875021529471081% - K\n",
      "0.6685988440491293% - M\n",
      "99.72580556139678% - N\n",
      "0.0030573761446696032% - 1\n"
     ]
    }
   ],
   "source": [
    "for filename in os.listdir(\"./Images/Test\"):\n",
    "    img = Image.open('./Images/Test/' + filename)\n",
    "    arr = np.asarray(img)\n",
    "    arr=arr.copy()\n",
    "    ans = []\n",
    "    for i in range(len(arr)):\n",
    "        for j in range(len(arr[i])):\n",
    "            arr[i][j] = not arr[i][j]\n",
    "    for j in range(4):\n",
    "        ans.append(f(neursum(arr,w[:,j],w0[j])))\n",
    "    display(img)\n",
    "    for i in range(len(ans)):\n",
    "        print(ans[i]*100,'%',' - ',\"KMN1\"[i],sep=\"\")      \n"
   ]
  },
  {
   "cell_type": "code",
   "execution_count": null,
   "id": "46c4d83e",
   "metadata": {},
   "outputs": [],
   "source": []
  }
 ],
 "metadata": {
  "kernelspec": {
   "display_name": "Python 3 (ipykernel)",
   "language": "python",
   "name": "python3"
  },
  "language_info": {
   "codemirror_mode": {
    "name": "ipython",
    "version": 3
   },
   "file_extension": ".py",
   "mimetype": "text/x-python",
   "name": "python",
   "nbconvert_exporter": "python",
   "pygments_lexer": "ipython3",
   "version": "3.9.13"
  }
 },
 "nbformat": 4,
 "nbformat_minor": 5
}
